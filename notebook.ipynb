{
 "cells": [
  {
   "cell_type": "markdown",
   "metadata": {},
   "source": [
    "We are using sqlite3 for the SQLite queries."
   ]
  },
  {
   "cell_type": "code",
   "execution_count": 44,
   "metadata": {},
   "outputs": [],
   "source": [
    "import sqlite3\n",
    "\n",
    "db = sqlite3.connect(\"my_db.sqlite\") # This creates the files if doesn't exist"
   ]
  },
  {
   "cell_type": "markdown",
   "metadata": {},
   "source": [
    "We run the table creation script and list all available tables."
   ]
  },
  {
   "cell_type": "code",
   "execution_count": 45,
   "metadata": {},
   "outputs": [
    {
     "name": "stdout",
     "output_type": "stream",
     "text": [
      "[('User',), ('Class',), ('Enrollment',), ('Session',), ('Document',), ('Artwork',), ('Cartel',), ('Card',), ('SessionCards',)]\n"
     ]
    }
   ],
   "source": [
    "# Open file and run script\n",
    "with open(\"tables.sql\", \"r\") as file:\n",
    "    query = file.read()\n",
    "    db.executescript(query)\n",
    "\n",
    "# Show the list of tables\n",
    "cursor = db.cursor()\n",
    "cursor.execute(\"SELECT name FROM sqlite_master WHERE type='table';\")\n",
    "print(cursor.fetchall())"
   ]
  },
  {
   "cell_type": "markdown",
   "metadata": {},
   "source": [
    "We run the insertion script to populate our tables."
   ]
  },
  {
   "cell_type": "code",
   "execution_count": 46,
   "metadata": {},
   "outputs": [],
   "source": [
    "# Open file and run script\n",
    "with open(\"inserts.sql\", \"r\") as file:\n",
    "    query = file.read()\n",
    "    db.executescript(query)"
   ]
  },
  {
   "cell_type": "markdown",
   "metadata": {},
   "source": [
    "Then we check if the insertion script worked."
   ]
  },
  {
   "cell_type": "code",
   "execution_count": 47,
   "metadata": {},
   "outputs": [
    {
     "name": "stdout",
     "output_type": "stream",
     "text": [
      "[(1, 0, 'seraphin', 'perrot', 'seraphin.perrot@epitech.eu', 'PwInClearAreABadHabbitLol', 1, '2022-12-06 12:16:16', None, None, None, None), (2, 1, 'mehdi', 'pirahandeh', 'mehdi.pirahandeh@inha.kr', 'Password', 2, '2022-12-06 12:16:16', None, None, None, None)]\n",
      "[(1, 'Database', 2, 1, '2022-12-06 12:16:16', None, None, None, None), (2, 'Embedded System', 2, 1, '2022-12-06 12:16:16', None, None, None, None)]\n",
      "[(1, 1, 1, 1, '2022-12-06 12:16:16', None, None, None, None)]\n",
      "[(1, 'Week 1', 1, 1, '2022-12-06 12:16:16', None, None, None, None), (2, 'Week 1', 2, 1, '2022-12-06 12:16:16', None, None, None, None), (3, 'Week 2', 1, 1, '2022-12-06 12:16:16', None, None, None, None)]\n",
      "[(1, '~/Documents/Ukiyo-e/TheGreatWaveOffKanagawa.png', 1, 1, '2022-12-06 12:16:16', None, None, None, None)]\n",
      "[(1, '~/Artworks/Ukiyo-e/TheGreatWaveOffKanagawa.png', 1, '2022-12-06 12:16:16', None, None, None, None)]\n",
      "[(1, 'katsushika hokusai', 'woodblock print', '1831', 'description TEXT', 1, '2022-12-06 12:16:16', None, None, None, None)]\n",
      "[(1, 1, 1, 1, '2022-12-06 12:16:16', None, None, None, None), (2, 1, 1, 1, '2022-12-06 12:16:16', None, None, None, None)]\n",
      "[(1, 1, 1, 1, '2022-12-06 12:16:16', None, None, None, None), (2, 2, 1, 1, '2022-12-06 12:16:16', None, None, None, None)]\n"
     ]
    }
   ],
   "source": [
    "cursor = db.cursor()\n",
    "\n",
    "cursor.execute(\"SELECT * FROM User\")\n",
    "print(cursor.fetchall())\n",
    "\n",
    "cursor.execute(\"SELECT * FROM Class\")\n",
    "print(cursor.fetchall())\n",
    "\n",
    "cursor.execute(\"SELECT * FROM Enrollment\")\n",
    "print(cursor.fetchall())\n",
    "\n",
    "cursor.execute(\"SELECT * FROM Session\")\n",
    "print(cursor.fetchall())\n",
    "\n",
    "cursor.execute(\"SELECT * FROM Document\")\n",
    "print(cursor.fetchall())\n",
    "\n",
    "cursor.execute(\"SELECT * FROM Artwork\")\n",
    "print(cursor.fetchall())\n",
    "\n",
    "cursor.execute(\"SELECT * FROM Cartel\")\n",
    "print(cursor.fetchall())\n",
    "\n",
    "cursor.execute(\"SELECT * FROM Card\")\n",
    "print(cursor.fetchall())\n",
    "\n",
    "cursor.execute(\"SELECT * FROM SessionCards\")\n",
    "print(cursor.fetchall())\n"
   ]
  },
  {
   "cell_type": "markdown",
   "metadata": {},
   "source": [
    "Now let's try some queries, first let's try to query our one to many class-session relationship."
   ]
  },
  {
   "cell_type": "code",
   "execution_count": 48,
   "metadata": {},
   "outputs": [
    {
     "name": "stdout",
     "output_type": "stream",
     "text": [
      "[(1, 'Database', 2, 1, '2022-12-06 12:16:16', None, None, None, None), (2, 'Embedded System', 2, 1, '2022-12-06 12:16:16', None, None, None, None)]\n"
     ]
    }
   ],
   "source": [
    "# We query all our Session associated with the 'Database' class\n",
    "cursor.execute('''\n",
    "    SELECT c.* \n",
    "    FROM Class c\n",
    "    JOIN User u ON c.teacher_id = u.id\n",
    "    WHERE u.last_name = \"pirahandeh\"\n",
    "''')\n",
    "print(cursor.fetchall())"
   ]
  },
  {
   "cell_type": "markdown",
   "metadata": {},
   "source": [
    "Now let's try to query a many to many relationship, the sessions and cards."
   ]
  },
  {
   "cell_type": "code",
   "execution_count": 49,
   "metadata": {},
   "outputs": [
    {
     "name": "stdout",
     "output_type": "stream",
     "text": [
      "[(1, 1, 1, 1, '2022-12-06 12:16:16', None, None, None, None), (2, 1, 1, 1, '2022-12-06 12:16:16', None, None, None, None)]\n"
     ]
    }
   ],
   "source": [
    "# We query all cards associated with the session with id 1\n",
    "cursor.execute('''\n",
    "    SELECT c.*\n",
    "    FROM Card c\n",
    "    JOIN SessionCards sc ON c.id = sc.card_id\n",
    "    JOIN Session s ON sc.session_id = s.id\n",
    "    WHERE s.id = 1\n",
    "''')\n",
    "print(cursor.fetchall())"
   ]
  },
  {
   "cell_type": "markdown",
   "metadata": {},
   "source": [
    "Ok so it worked but we had to provide the id of the session directly, let's say we want all Week 1 cards from the Database class, but we cannot query by id."
   ]
  },
  {
   "cell_type": "code",
   "execution_count": 50,
   "metadata": {},
   "outputs": [
    {
     "name": "stdout",
     "output_type": "stream",
     "text": [
      "[(1, 1, 1, 1, '2022-12-06 12:16:16', None, None, None, None), (2, 1, 1, 1, '2022-12-06 12:16:16', None, None, None, None)]\n"
     ]
    }
   ],
   "source": [
    "# We query all cards where the associated session name is \"Week 1\" and the associated Class is \"Database\"\n",
    "cursor.execute('''\n",
    "    SELECT c.*\n",
    "    FROM Card c\n",
    "    JOIN SessionCards sc ON c.id = sc.card_id\n",
    "    JOIN Session s ON sc.session_id = s.id\n",
    "    WHERE s.session_name = \"Week 1\" AND s.class_id = (\n",
    "        SELECT id FROM Class WHERE class_name = \"Database\"\n",
    "    )\n",
    "''')\n",
    "print(cursor.fetchall())"
   ]
  }
 ],
 "metadata": {
  "kernelspec": {
   "display_name": "Python 3.10.8 64-bit",
   "language": "python",
   "name": "python3"
  },
  "language_info": {
   "codemirror_mode": {
    "name": "ipython",
    "version": 3
   },
   "file_extension": ".py",
   "mimetype": "text/x-python",
   "name": "python",
   "nbconvert_exporter": "python",
   "pygments_lexer": "ipython3",
   "version": "3.10.8"
  },
  "orig_nbformat": 4,
  "vscode": {
   "interpreter": {
    "hash": "767d51c1340bd893661ea55ea3124f6de3c7a262a8b4abca0554b478b1e2ff90"
   }
  }
 },
 "nbformat": 4,
 "nbformat_minor": 2
}
